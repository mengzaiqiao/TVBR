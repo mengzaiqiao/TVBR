{
 "cells": [
  {
   "cell_type": "markdown",
   "metadata": {},
   "source": [
    "### Install Beta-recsys"
   ]
  },
  {
   "cell_type": "markdown",
   "metadata": {},
   "source": [
    "## Loading dataset"
   ]
  },
  {
   "cell_type": "code",
   "execution_count": 1,
   "metadata": {},
   "outputs": [
    {
     "name": "stdout",
     "output_type": "stream",
     "text": [
      "--------------------------------------------------------------------------------\n",
      "Loaded training set statistics\n",
      "+---------+------------+------------+--------------+-----------------+-------------+\n",
      "|         | col_user   | col_item   | col_rating   | col_timestamp   | col_order   |\n",
      "|---------+------------+------------+--------------+-----------------+-------------|\n",
      "| count   | 3857794    | 3857794    | 3857794      | 3857794         | 3857794     |\n",
      "| nunique | 23093      | 14565      | 1            | 3857794         | 373719      |\n",
      "+---------+------------+------------+--------------+-----------------+-------------+\n",
      "valid_data_0 statistics\n",
      "+---------+------------+------------+--------------+-----------------+\n",
      "|         | col_user   | col_item   | col_rating   | col_timestamp   |\n",
      "|---------+------------+------------+--------------+-----------------|\n",
      "| count   | 3076168    | 3076168    | 3076168      | 3076168         |\n",
      "| nunique | 22475      | 14565      | 2            | 1               |\n",
      "+---------+------------+------------+--------------+-----------------+\n",
      "test_data_0 statistics\n",
      "+---------+------------+------------+--------------+-----------------+\n",
      "|         | col_user   | col_item   | col_rating   | col_timestamp   |\n",
      "|---------+------------+------------+--------------+-----------------|\n",
      "| count   | 3072601    | 3072601    | 3072601      | 3072601         |\n",
      "| nunique | 22434      | 14565      | 2            | 1               |\n",
      "+---------+------------+------------+--------------+-----------------+\n",
      "--------------------------------------------------------------------------------\n",
      "After intersection, testing set [0] statistics\n",
      "+---------+------------+------------+--------------+-----------------+\n",
      "|         | col_user   | col_item   | col_rating   | col_timestamp   |\n",
      "|---------+------------+------------+--------------+-----------------|\n",
      "| count   | 3072601    | 3072601    | 3072601      | 3072601         |\n",
      "| nunique | 22434      | 14565      | 2            | 1               |\n",
      "+---------+------------+------------+--------------+-----------------+\n",
      "After intersection, validation set [0] statistics\n",
      "+---------+------------+------------+--------------+-----------------+\n",
      "|         | col_user   | col_item   | col_rating   | col_timestamp   |\n",
      "|---------+------------+------------+--------------+-----------------|\n",
      "| count   | 3076168    | 3076168    | 3076168      | 3076168         |\n",
      "| nunique | 22475      | 14565      | 2            | 1               |\n",
      "+---------+------------+------------+--------------+-----------------+\n",
      "Filling alias table\n",
      "Filling alias table\n"
     ]
    }
   ],
   "source": [
    "import sys\n",
    "\n",
    "sys.path.append(\"../\")\n",
    "\n",
    "import random\n",
    "\n",
    "import numpy as np\n",
    "\n",
    "from beta_rec.data.grocery_data import GroceryData\n",
    "from beta_rec.datasets.instacart import Instacart_25\n",
    "\n",
    "seed = 2021\n",
    "random.seed(seed)  # Fix random seeds for reproducibility\n",
    "np.random.seed(seed)\n",
    "\n",
    "# make sure that you have already download the Instacart data from this link: https://www.kaggle.com/c/instacart-market-basket-analysis#\n",
    "# uncompressed them and put them in this folder: ../datasets/instacart_25/raw/*.csv\n",
    "\n",
    "\n",
    "dataset = Instacart_25(\n",
    "    min_u_c=20, min_i_c=30, min_o_c=10\n",
    ")  # Specifying the filtering conditions.\n",
    "\n",
    "# Split the data\n",
    "split_dataset = dataset.load_temporal_basket_split(test_rate=0.2, n_test=10)\n",
    "data = GroceryData(split_dataset)"
   ]
  },
  {
   "cell_type": "markdown",
   "metadata": {},
   "source": [
    "### Model config"
   ]
  },
  {
   "cell_type": "code",
   "execution_count": 2,
   "metadata": {},
   "outputs": [],
   "source": [
    "config = {\"config_file\": \"../configs/vbcar_default.json\"}\n",
    "config[\"n_sample\"] = 1000000  # To reduce the test running time\n",
    "config[\"max_epoch\"] = 80\n",
    "config[\"emb_dim\"] = 64\n",
    "config[\"root_dir\"] = \"/home/zm324/workspace/beta-recsys/\"\n",
    "config[\"dataset\"] = \"instacart_25\"\n",
    "config[\"batch_size\"] = 1024\n",
    "# config[\"item_fea_type\"] = \"random_word2vec\"\n",
    "# config[\"tunable\"] = [\n",
    "#     {\"name\": \"lr\", \"type\": \"choice\", \"values\": [0.5, 0.05, 0.025, 0.001, 0.005]},\n",
    "# ]\n",
    "# config[\"tune\"] = True\n",
    "# the 'config_file' key is required, that is used load a default config.\n",
    "# Other keys can be specified to replace the default settings."
   ]
  },
  {
   "cell_type": "markdown",
   "metadata": {},
   "source": [
    "### Model intialization and training"
   ]
  },
  {
   "cell_type": "code",
   "execution_count": null,
   "metadata": {},
   "outputs": [
    {
     "name": "stdout",
     "output_type": "stream",
     "text": [
      "Search default config file in /home/zm324/anaconda3/envs/beta_rec/configs/vbcar_default.json\n",
      "Found default config file in /home/zm324/anaconda3/envs/beta_rec/configs/vbcar_default.json\n",
      "loading config file /home/zm324/anaconda3/envs/beta_rec/configs/vbcar_default.json\n",
      "--------------------------------------------------------------------------------\n",
      "Received parameters from command line (or default):\n",
      "+----+------------------+------------------------------------+\n",
      "|    | keys             | values                             |\n",
      "|----+------------------+------------------------------------|\n",
      "|  0 | system:root_dir  | /home/zm324/workspace/beta-recsys/ |\n",
      "|  1 | model:n_sample   | 1000000                            |\n",
      "|  2 | model:max_epoch  | 80                                 |\n",
      "|  3 | model:emb_dim    | 64                                 |\n",
      "|  4 | model:batch_size | 1024                               |\n",
      "|  5 | model:lr         | 0.001                              |\n",
      "|  6 | dataset:dataset  | instacart_25                       |\n",
      "+----+------------------+------------------------------------+\n",
      "--------------------------------------------------------------------------------\n",
      "logs will save in file: /home/zm324/workspace/beta-recsys/logs/VBCAR_default_20211206_053300_murihu .stdout.log .stderr.log\n",
      "2021-12-06 05:33:00 [INFO]-\n",
      "Python version: 3.8.5 (default, Sep  4 2020, 07:30:14) \n",
      "[GCC 7.3.0\n",
      "2021-12-06 05:33:00 [INFO]-\n",
      "2021-12-06 05:33:00 [INFO]-Pytorch version: 1.7.1\n",
      "2021-12-06 05:33:00 [INFO]-The intermediate running statuses will be reported in folder: /home/zm324/workspace/beta-recsys/runs/VBCAR_default_20211206_053300_murihu\n",
      "2021-12-06 05:33:00 [INFO]-Model checkpoint will save in file: /home/zm324/workspace/beta-recsys/checkpoints/VBCAR_default_20211206_053300_murihu\n",
      "2021-12-06 05:33:00 [INFO]-Performance result will save in file: /home/zm324/workspace/beta-recsys/results/vbcar_result.csv\n",
      "2021-12-06 05:33:00 [INFO]---------------------------------------------------------------------------------\n",
      "2021-12-06 05:33:00 [INFO]-System configs\n",
      "2021-12-06 05:33:00 [INFO]-\n",
      "+----+----------------+------------------------------------------------------------------------------------+\n",
      "|    | keys           | values                                                                             |\n",
      "|----+----------------+------------------------------------------------------------------------------------|\n",
      "|  0 | root_dir       | /home/zm324/workspace/beta-recsys                                                  |\n",
      "|  1 | log_dir        | logs/                                                                              |\n",
      "|  2 | result_dir     | results/                                                                           |\n",
      "|  3 | process_dir    | /home/zm324/workspace/beta-recsys/processes/                                       |\n",
      "|  4 | checkpoint_dir | checkpoints/                                                                       |\n",
      "|  5 | dataset_dir    | datasets/                                                                          |\n",
      "|  6 | run_dir        | /home/zm324/workspace/beta-recsys/runs/VBCAR_default_20211206_053300_murihu        |\n",
      "|  7 | tune_dir       | /home/zm324/workspace/beta-recsys/tune_results/                                    |\n",
      "|  8 | device         | gpu                                                                                |\n",
      "|  9 | seed           | 2020                                                                               |\n",
      "| 10 | metrics        | ['ndcg', 'precision', 'recall', 'map']                                             |\n",
      "| 11 | k              | [5, 10, 20]                                                                        |\n",
      "| 12 | valid_metric   | ndcg                                                                               |\n",
      "| 13 | valid_k        | 10                                                                                 |\n",
      "| 14 | result_file    | /home/zm324/workspace/beta-recsys/results/vbcar_result.csv                         |\n",
      "| 15 | save_mode      | average                                                                            |\n",
      "| 16 | model_run_id   | VBCAR_default_20211206_053300_murihu                                               |\n",
      "| 17 | log_file       | /home/zm324/workspace/beta-recsys/logs/VBCAR_default_20211206_053300_murihu        |\n",
      "| 18 | model_save_dir | /home/zm324/workspace/beta-recsys/checkpoints/VBCAR_default_20211206_053300_murihu |\n",
      "+----+----------------+------------------------------------------------------------------------------------\n",
      "2021-12-06 05:33:00 [INFO]-\n",
      "2021-12-06 05:33:00 [INFO]---------------------------------------------------------------------------------\n"
     ]
    },
    {
     "name": "stderr",
     "output_type": "stream",
     "text": [
      "2021-12-06 05:33:00 [ERROR]-Failed to detect the name of this notebook, you can set it manually with the WANDB_NOTEBOOK_NAME environment variable to enable code saving.\n",
      "2021-12-06 05:33:01 [ERROR]-wandb: Currently logged in as: mengzaiqiao (use `wandb login --relogin` to force relogin)\n"
     ]
    },
    {
     "data": {
      "text/html": [
       "\n",
       "                    Syncing run <strong><a href=\"https://wandb.ai/mengzaiqiao/VBCAR/runs/1ada5xye\" target=\"_blank\">sleek-microwave-13</a></strong> to <a href=\"https://wandb.ai/mengzaiqiao/VBCAR\" target=\"_blank\">Weights & Biases</a> (<a href=\"https://docs.wandb.com/integrations/jupyter.html\" target=\"_blank\">docs</a>).<br/>\n",
       "\n",
       "                "
      ],
      "text/plain": [
       "<IPython.core.display.HTML object>"
      ]
     },
     "metadata": {},
     "output_type": "display_data"
    },
    {
     "name": "stdout",
     "output_type": "stream",
     "text": [
      "2021-12-06 05:33:02 [INFO]-Get a gpu with the most available memory : 0\n",
      "2021-12-06 05:33:02 [INFO]-Initializing test engine ...\n",
      "2021-12-06 05:33:02 [INFO]-Get a gpu with the most available memory : 0\n",
      "2021-12-06 05:33:04 [INFO]-Setting device for torch_engine cuda:0\n",
      "2021-12-06 05:33:04 [INFO]-\n",
      "VBCAR(\n",
      "  (user_emb): Embedding(23093, 64)\n",
      "  (item_emb): Embedding(14565, 64)\n",
      "  (fc_u_1_mu): Linear(in_features=512, out_features=256, bias=True)\n",
      "  (fc_u_2_mu): Linear(in_features=256, out_features=128, bias=True)\n",
      "  (fc_i_1_mu): Linear(in_features=512, out_features=256, bias=True)\n",
      "  (fc_i_2_mu): Linear(in_features=256, out_features=128, bias=True)\n",
      "\n",
      "2021-12-06 05:33:04 [INFO]-\n",
      "2021-12-06 05:33:06 [INFO]-Initialize Sampler!\n",
      "2021-12-06 05:33:06 [INFO]-Preparing training triples ... \n"
     ]
    },
    {
     "name": "stderr",
     "output_type": "stream",
     "text": [
      "2021-12-06 05:33:07 [ERROR]-wandb: WARNING When using several event log directories, please call wandb.tensorboard.patch(root_logdir=\"...\") before wandb.init\n",
      "2021-12-06 05:33:07 [ERROR]-wandb: WARNING When using several event log directories, please call wandb.tensorboard.patch(root_logdir=\"...\") before wandb.init\n",
      "2021-12-06 05:33:08 [ERROR]-wandb: WARNING When using several event log directories, please call wandb.tensorboard.patch(root_logdir=\"...\") before wandb.init\n",
      "2021-12-06 05:33:08 [ERROR]-wandb: WARNING When using several event log directories, please call wandb.tensorboard.patch(root_logdir=\"...\") before wandb.init\n",
      "2021-12-06 05:33:08 [ERROR]-wandb: WARNING When using several event log directories, please call wandb.tensorboard.patch(root_logdir=\"...\") before wandb.init\n"
     ]
    },
    {
     "name": "stdout",
     "output_type": "stream",
     "text": [
      "100%|##########| 1000000/1000000 [01:42<00:00, 9801.61it/s]\n",
      "2021-12-06 05:35:08 [INFO]-done!\n",
      "  0%|          | 0/80 [00:00<?, ?it/s]Epoch 0 starts !\n",
      "2021-12-06 05:35:09 [INFO]---------------------------------------------------------------------------------\n",
      "2021-12-06 05:36:31 [INFO]-[Training Epoch 0], log_like_loss 8.090019000228494 kl_loss: 0.966013843069959 alpha: 0.001 lr: 0.001\n"
     ]
    },
    {
     "name": "stderr",
     "output_type": "stream",
     "text": [
      "2021-12-06 05:36:31 [ERROR]-wandb: WARNING When using several event log directories, please call wandb.tensorboard.patch(root_logdir=\"...\") before wandb.init\n",
      "2021-12-06 05:36:31 [ERROR]-wandb: WARNING When using several event log directories, please call wandb.tensorboard.patch(root_logdir=\"...\") before wandb.init\n",
      "2021-12-06 05:36:31 [ERROR]-wandb: WARNING When using several event log directories, please call wandb.tensorboard.patch(root_logdir=\"...\") before wandb.init\n"
     ]
    },
    {
     "name": "stdout",
     "output_type": "stream",
     "text": [
      "2021-12-06 05:36:31 [INFO]-Execute [train_an_epoch] method costing 81057.79 ms\n",
      "  1%|1         | 1/80 [01:33<2:02:59, 93.41s/it]Epoch 1 starts !\n",
      "2021-12-06 05:36:43 [INFO]---------------------------------------------------------------------------------\n"
     ]
    }
   ],
   "source": [
    "from beta_rec.recommenders import VBCAR\n",
    "\n",
    "for lr in [0.001]:\n",
    "    config[\"lr\"] = lr\n",
    "    model = VBCAR(config)\n",
    "    model.train(data)\n",
    "    model.test(data.test[0])\n",
    "# @To be discussed\n",
    "# model.train(train_df)\n",
    "# Case 1, without validation, stop training by loss or max_epoch\n",
    "\n",
    "# model.train(train_df,valid_df[0])\n",
    "# Case 2, with validation, stop training by performance on validation set\n",
    "\n",
    "# model.train(train_df,valid_df[0],test_df[0])\n",
    "# Case 3, same as Case 2, but also evaluate performance for each epoch on test set.\n",
    "\n",
    "# Note that the best model will be save automatically, and record the model-save-dir."
   ]
  },
  {
   "cell_type": "code",
   "execution_count": null,
   "metadata": {},
   "outputs": [],
   "source": []
  }
 ],
 "metadata": {
  "kernelspec": {
   "display_name": "beta_rec",
   "language": "python",
   "name": "beta_rec"
  },
  "language_info": {
   "codemirror_mode": {
    "name": "ipython",
    "version": 3
   },
   "file_extension": ".py",
   "mimetype": "text/x-python",
   "name": "python",
   "nbconvert_exporter": "python",
   "pygments_lexer": "ipython3",
   "version": "3.8.5"
  }
 },
 "nbformat": 4,
 "nbformat_minor": 4
}
