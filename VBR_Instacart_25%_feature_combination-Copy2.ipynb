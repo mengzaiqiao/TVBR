{
 "cells": [
  {
   "cell_type": "markdown",
   "metadata": {},
   "source": [
    "### Install Beta-recsys"
   ]
  },
  {
   "cell_type": "markdown",
   "metadata": {},
   "source": [
    "## Loading dataset"
   ]
  },
  {
   "cell_type": "code",
   "execution_count": 1,
   "metadata": {},
   "outputs": [
    {
     "name": "stdout",
     "output_type": "stream",
     "text": [
      "--------------------------------------------------------------------------------\n",
      "Loaded training set statistics\n",
      "+---------+------------+------------+--------------+-----------------+-------------+\n",
      "|         | col_user   | col_item   | col_rating   | col_timestamp   | col_order   |\n",
      "|---------+------------+------------+--------------+-----------------+-------------|\n",
      "| count   | 3857794    | 3857794    | 3857794      | 3857794         | 3857794     |\n",
      "| nunique | 23093      | 14565      | 1            | 3857794         | 373719      |\n",
      "+---------+------------+------------+--------------+-----------------+-------------+\n",
      "valid_data_0 statistics\n",
      "+---------+------------+------------+--------------+-----------------+\n",
      "|         | col_user   | col_item   | col_rating   | col_timestamp   |\n",
      "|---------+------------+------------+--------------+-----------------|\n",
      "| count   | 3076168    | 3076168    | 3076168      | 3076168         |\n",
      "| nunique | 22475      | 14565      | 2            | 1               |\n",
      "+---------+------------+------------+--------------+-----------------+\n",
      "test_data_0 statistics\n",
      "+---------+------------+------------+--------------+-----------------+\n",
      "|         | col_user   | col_item   | col_rating   | col_timestamp   |\n",
      "|---------+------------+------------+--------------+-----------------|\n",
      "| count   | 3072601    | 3072601    | 3072601      | 3072601         |\n",
      "| nunique | 22434      | 14565      | 2            | 1               |\n",
      "+---------+------------+------------+--------------+-----------------+\n",
      "--------------------------------------------------------------------------------\n",
      "After intersection, testing set [0] statistics\n",
      "+---------+------------+------------+--------------+-----------------+\n",
      "|         | col_user   | col_item   | col_rating   | col_timestamp   |\n",
      "|---------+------------+------------+--------------+-----------------|\n",
      "| count   | 3072601    | 3072601    | 3072601      | 3072601         |\n",
      "| nunique | 22434      | 14565      | 2            | 1               |\n",
      "+---------+------------+------------+--------------+-----------------+\n",
      "After intersection, validation set [0] statistics\n",
      "+---------+------------+------------+--------------+-----------------+\n",
      "|         | col_user   | col_item   | col_rating   | col_timestamp   |\n",
      "|---------+------------+------------+--------------+-----------------|\n",
      "| count   | 3076168    | 3076168    | 3076168      | 3076168         |\n",
      "| nunique | 22475      | 14565      | 2            | 1               |\n",
      "+---------+------------+------------+--------------+-----------------+\n",
      "Filling alias table\n",
      "Filling alias table\n",
      "Execute [__init__] method costing 85751.52 ms\n",
      "Execute [__init__] method costing 0.00 ms\n"
     ]
    }
   ],
   "source": [
    "import sys\n",
    "\n",
    "sys.path.append(\"../\")\n",
    "\n",
    "import random\n",
    "\n",
    "import numpy as np\n",
    "\n",
    "from beta_rec.data.grocery_data import GroceryData\n",
    "from beta_rec.datasets.instacart import Instacart_25\n",
    "\n",
    "seed = 2021\n",
    "random.seed(seed)  # Fix random seeds for reproducibility\n",
    "np.random.seed(seed)\n",
    "\n",
    "# make sure that you have already download the Instacart data from this link: https://www.kaggle.com/c/instacart-market-basket-analysis#\n",
    "# uncompressed them and put them in this folder: ../datasets/instacart_25/raw/*.csv\n",
    "\n",
    "\n",
    "dataset = Instacart_25(\n",
    "    min_u_c=20, min_i_c=30, min_o_c=10\n",
    ")  # Specifying the filtering conditions.\n",
    "\n",
    "# Split the data\n",
    "split_dataset = dataset.load_temporal_basket_split(test_rate=0.2, n_test=10)\n",
    "data = GroceryData(split_dataset)"
   ]
  },
  {
   "cell_type": "markdown",
   "metadata": {},
   "source": [
    "### Model config"
   ]
  },
  {
   "cell_type": "code",
   "execution_count": 2,
   "metadata": {},
   "outputs": [],
   "source": [
    "config = {\"config_file\": \"../configs/vbcar_default.json\"}\n",
    "config[\"n_sample\"] = 1000000  # To reduce the test running time\n",
    "config[\"max_epoch\"] = 80\n",
    "config[\"emb_dim\"] = 64\n",
    "config[\"root_dir\"] = \"/home/zm324/workspace/beta-recsys/\"\n",
    "config[\"dataset\"] = \"instacart_25\"\n",
    "config[\"batch_size\"] = 2048\n",
    "config[\"lr\"] = 0.001\n",
    "\n",
    "# config[\"item_fea_type\"] = \"random_word2vec\"\n",
    "# config[\"tunable\"] = [\n",
    "#     {\"name\": \"lr\", \"type\": \"choice\", \"values\": [0.5, 0.05, 0.025, 0.001, 0.005]},\n",
    "# ]\n",
    "# config[\"tune\"] = True\n",
    "# the 'config_file' key is required, that is used load a default config.\n",
    "# Other keys can be specified to replace the default settings."
   ]
  },
  {
   "cell_type": "markdown",
   "metadata": {},
   "source": [
    "### Model intialization and training"
   ]
  },
  {
   "cell_type": "code",
   "execution_count": null,
   "metadata": {},
   "outputs": [
    {
     "name": "stdout",
     "output_type": "stream",
     "text": [
      "Search default config file in /home/zm324/anaconda3/envs/beta_rec/configs/vbcar_default.json\n",
      "Found default config file in /home/zm324/anaconda3/envs/beta_rec/configs/vbcar_default.json\n",
      "loading config file /home/zm324/anaconda3/envs/beta_rec/configs/vbcar_default.json\n",
      "--------------------------------------------------------------------------------\n",
      "Received parameters from command line (or default):\n",
      "+----+-----------------------+------------------------------------+\n",
      "|    | keys                  | values                             |\n",
      "|----+-----------------------+------------------------------------|\n",
      "|  0 | system:root_dir       | /home/zm324/workspace/beta-recsys/ |\n",
      "|  1 | model:n_sample        | 1000000                            |\n",
      "|  2 | model:max_epoch       | 80                                 |\n",
      "|  3 | model:emb_dim         | 64                                 |\n",
      "|  4 | model:batch_size      | 2048                               |\n",
      "|  5 | model:lr              | 0.001                              |\n",
      "|  6 | dataset:dataset       | instacart_25                       |\n",
      "|  7 | dataset:item_fea_type | random_one_hot                     |\n",
      "+----+-----------------------+------------------------------------+\n",
      "--------------------------------------------------------------------------------\n",
      "logs will save in file: /home/zm324/workspace/beta-recsys/logs/VBCAR_default_20211214_044307_murihu .stdout.log .stderr.log\n",
      "2021-12-14 04:43:07 [INFO]-\n",
      "Python version: 3.8.5 (default, Sep  4 2020, 07:30:14) \n",
      "[GCC 7.3.0\n",
      "2021-12-14 04:43:07 [INFO]-\n",
      "2021-12-14 04:43:07 [INFO]-Pytorch version: 1.7.1\n",
      "2021-12-14 04:43:07 [INFO]-The intermediate running statuses will be reported in folder: /home/zm324/workspace/beta-recsys/runs/VBCAR_default_20211214_044307_murihu\n",
      "2021-12-14 04:43:07 [INFO]-Model checkpoint will save in file: /home/zm324/workspace/beta-recsys/checkpoints/VBCAR_default_20211214_044307_murihu\n",
      "2021-12-14 04:43:07 [INFO]-Performance result will save in file: /home/zm324/workspace/beta-recsys/results/vbcar_result.csv\n",
      "2021-12-14 04:43:07 [INFO]---------------------------------------------------------------------------------\n",
      "2021-12-14 04:43:07 [INFO]-System configs\n",
      "2021-12-14 04:43:07 [INFO]-\n",
      "+----+----------------+------------------------------------------------------------------------------------+\n",
      "|    | keys           | values                                                                             |\n",
      "|----+----------------+------------------------------------------------------------------------------------|\n",
      "|  0 | root_dir       | /home/zm324/workspace/beta-recsys                                                  |\n",
      "|  1 | log_dir        | logs/                                                                              |\n",
      "|  2 | result_dir     | results/                                                                           |\n",
      "|  3 | process_dir    | /home/zm324/workspace/beta-recsys/processes/                                       |\n",
      "|  4 | checkpoint_dir | checkpoints/                                                                       |\n",
      "|  5 | dataset_dir    | datasets/                                                                          |\n",
      "|  6 | run_dir        | /home/zm324/workspace/beta-recsys/runs/VBCAR_default_20211214_044307_murihu        |\n",
      "|  7 | tune_dir       | /home/zm324/workspace/beta-recsys/tune_results/                                    |\n",
      "|  8 | device         | gpu                                                                                |\n",
      "|  9 | seed           | 2020                                                                               |\n",
      "| 10 | metrics        | ['ndcg', 'precision', 'recall', 'map']                                             |\n",
      "| 11 | k              | [5, 10, 20]                                                                        |\n",
      "| 12 | valid_metric   | ndcg                                                                               |\n",
      "| 13 | valid_k        | 10                                                                                 |\n",
      "| 14 | result_file    | /home/zm324/workspace/beta-recsys/results/vbcar_result.csv                         |\n",
      "| 15 | save_mode      | average                                                                            |\n",
      "| 16 | model_run_id   | VBCAR_default_20211214_044307_murihu                                               |\n",
      "| 17 | log_file       | /home/zm324/workspace/beta-recsys/logs/VBCAR_default_20211214_044307_murihu        |\n",
      "| 18 | model_save_dir | /home/zm324/workspace/beta-recsys/checkpoints/VBCAR_default_20211214_044307_murihu |\n",
      "+----+----------------+------------------------------------------------------------------------------------\n",
      "2021-12-14 04:43:07 [INFO]-\n",
      "2021-12-14 04:43:07 [INFO]---------------------------------------------------------------------------------\n"
     ]
    },
    {
     "name": "stderr",
     "output_type": "stream",
     "text": [
      "2021-12-14 04:43:07 [ERROR]-Failed to detect the name of this notebook, you can set it manually with the WANDB_NOTEBOOK_NAME environment variable to enable code saving.\n",
      "2021-12-14 04:43:08 [ERROR]-wandb: Currently logged in as: mengzaiqiao (use `wandb login --relogin` to force relogin)\n"
     ]
    },
    {
     "data": {
      "text/html": [
       "\n",
       "                    Syncing run <strong><a href=\"https://wandb.ai/mengzaiqiao/VBCAR/runs/17rduqqk\" target=\"_blank\">crimson-hill-85</a></strong> to <a href=\"https://wandb.ai/mengzaiqiao/VBCAR\" target=\"_blank\">Weights & Biases</a> (<a href=\"https://docs.wandb.com/integrations/jupyter.html\" target=\"_blank\">docs</a>).<br/>\n",
       "\n",
       "                "
      ],
      "text/plain": [
       "<IPython.core.display.HTML object>"
      ]
     },
     "metadata": {},
     "output_type": "display_data"
    },
    {
     "name": "stdout",
     "output_type": "stream",
     "text": [
      "2021-12-14 04:43:09 [INFO]-Get a gpu with the most available memory : 1\n",
      "2021-12-14 04:43:09 [INFO]-Initializing test engine ...\n",
      "2021-12-14 04:43:09 [INFO]-Get a gpu with the most available memory : 1\n",
      "2021-12-14 04:43:09 [INFO]-load basic item featrue for dataset: instacart_25  type: one_hot\n",
      "2021-12-14 04:43:15 [INFO]-Setting device for torch_engine cuda:1\n",
      "2021-12-14 04:43:15 [INFO]-\n",
      "VBCAR(\n",
      "  (user_emb): Embedding(23093, 64)\n",
      "  (item_emb): Embedding(14565, 64)\n",
      "  (fc_u_1_mu): Linear(in_features=512, out_features=256, bias=True)\n",
      "  (fc_u_2_mu): Linear(in_features=256, out_features=128, bias=True)\n",
      "  (fc_i_1_mu): Linear(in_features=676, out_features=256, bias=True)\n",
      "  (fc_i_2_mu): Linear(in_features=256, out_features=128, bias=True)\n",
      "\n",
      "2021-12-14 04:43:15 [INFO]-\n",
      "2021-12-14 04:43:18 [INFO]-Initialize Sampler!\n",
      "2021-12-14 04:43:18 [INFO]-Preparing training triples ... \n"
     ]
    },
    {
     "name": "stderr",
     "output_type": "stream",
     "text": [
      "2021-12-14 04:43:19 [ERROR]-wandb: WARNING When using several event log directories, please call wandb.tensorboard.patch(root_logdir=\"...\") before wandb.init\n",
      "2021-12-14 04:43:19 [ERROR]-wandb: WARNING When using several event log directories, please call wandb.tensorboard.patch(root_logdir=\"...\") before wandb.init\n",
      "2021-12-14 04:43:20 [ERROR]-wandb: WARNING When using several event log directories, please call wandb.tensorboard.patch(root_logdir=\"...\") before wandb.init\n",
      "2021-12-14 04:43:20 [ERROR]-wandb: WARNING When using several event log directories, please call wandb.tensorboard.patch(root_logdir=\"...\") before wandb.init\n",
      "2021-12-14 04:43:20 [ERROR]-wandb: WARNING When using several event log directories, please call wandb.tensorboard.patch(root_logdir=\"...\") before wandb.init\n"
     ]
    },
    {
     "name": "stdout",
     "output_type": "stream",
     "text": [
      "100%|##########| 1000000/1000000 [01:43<00:00, 9652.25it/s]\n",
      "2021-12-14 04:45:21 [INFO]-done!\n",
      "  0%|          | 0/80 [00:00<?, ?it/s]Epoch 0 starts !\n",
      "2021-12-14 04:45:23 [INFO]---------------------------------------------------------------------------------\n",
      "2021-12-14 04:46:42 [INFO]-[Training Epoch 0], log_like_loss 2.069815370021388 kl_loss: 0.10928681631776271 alpha: 0.001 lr: 0.001\n"
     ]
    },
    {
     "name": "stderr",
     "output_type": "stream",
     "text": [
      "2021-12-14 04:46:42 [ERROR]-wandb: WARNING When using several event log directories, please call wandb.tensorboard.patch(root_logdir=\"...\") before wandb.init\n",
      "2021-12-14 04:46:42 [ERROR]-wandb: WARNING When using several event log directories, please call wandb.tensorboard.patch(root_logdir=\"...\") before wandb.init\n",
      "2021-12-14 04:46:42 [ERROR]-wandb: WARNING When using several event log directories, please call wandb.tensorboard.patch(root_logdir=\"...\") before wandb.init\n"
     ]
    },
    {
     "name": "stdout",
     "output_type": "stream",
     "text": [
      "2021-12-14 04:46:42 [INFO]-Execute [train_an_epoch] method costing 79374.49 ms\n",
      "  1%|1         | 1/80 [01:19<1:44:30, 79.38s/it]Epoch 1 starts !\n",
      "2021-12-14 04:46:42 [INFO]---------------------------------------------------------------------------------\n",
      "2021-12-14 04:47:58 [INFO]-[Training Epoch 1], log_like_loss 1.8367314755450934 kl_loss: 0.20895504354848526 alpha: 0.001 lr: 0.001\n",
      "2021-12-14 04:47:58 [INFO]-Execute [train_an_epoch] method costing 75976.51 ms\n",
      "  2%|2         | 2/80 [02:35<1:41:52, 78.36s/it]Epoch 2 starts !\n",
      "2021-12-14 04:47:58 [INFO]---------------------------------------------------------------------------------\n",
      "2021-12-14 04:49:18 [INFO]-[Training Epoch 2], log_like_loss 1.7353601222857833 kl_loss: 0.26204545033397153 alpha: 0.001 lr: 0.001\n",
      "2021-12-14 04:49:18 [INFO]-Execute [train_an_epoch] method costing 79421.28 ms\n",
      "  4%|3         | 3/80 [03:54<1:40:58, 78.69s/it]Epoch 3 starts !\n",
      "2021-12-14 04:49:18 [INFO]---------------------------------------------------------------------------------\n",
      "2021-12-14 04:50:37 [INFO]-[Training Epoch 3], log_like_loss 1.6488245672080666 kl_loss: 0.28738889307715 alpha: 0.001 lr: 0.001\n",
      "2021-12-14 04:50:37 [INFO]-Execute [train_an_epoch] method costing 79201.99 ms\n",
      "  5%|5         | 4/80 [05:14<1:39:52, 78.85s/it]Epoch 4 starts !\n",
      "2021-12-14 04:50:37 [INFO]---------------------------------------------------------------------------------\n",
      "2021-12-14 04:51:57 [INFO]-[Training Epoch 4], log_like_loss 1.5700688653159887 kl_loss: 0.31591394142014906 alpha: 0.001 lr: 0.001\n",
      "2021-12-14 04:51:57 [INFO]-Execute [train_an_epoch] method costing 79642.74 ms\n",
      "  6%|6         | 5/80 [06:33<1:38:52, 79.10s/it]Epoch 5 starts !\n",
      "2021-12-14 04:51:57 [INFO]---------------------------------------------------------------------------------\n",
      "2021-12-14 04:53:16 [INFO]-[Training Epoch 5], log_like_loss 1.4966601096093655 kl_loss: 0.34063629450974986 alpha: 0.001 lr: 0.001\n",
      "2021-12-14 04:53:16 [INFO]-Execute [train_an_epoch] method costing 79401.79 ms\n",
      "  8%|7         | 6/80 [07:53<1:37:40, 79.20s/it]Epoch 6 starts !\n",
      "2021-12-14 04:53:16 [INFO]---------------------------------------------------------------------------------\n",
      "2021-12-14 04:54:32 [INFO]-[Training Epoch 6], log_like_loss 1.4286737109068781 kl_loss: 0.36430539545835927 alpha: 0.001 lr: 0.001\n",
      "2021-12-14 04:54:32 [INFO]-Execute [train_an_epoch] method costing 75628.13 ms\n",
      "  9%|8         | 7/80 [09:08<1:35:03, 78.14s/it]Epoch 7 starts !\n",
      "2021-12-14 04:54:32 [INFO]---------------------------------------------------------------------------------\n",
      "2021-12-14 04:55:51 [INFO]-[Training Epoch 7], log_like_loss 1.3663944497238845 kl_loss: 0.38393846101826057 alpha: 0.001 lr: 0.001\n",
      "2021-12-14 04:55:51 [INFO]-Execute [train_an_epoch] method costing 79520.18 ms\n",
      " 10%|#         | 8/80 [10:28<1:34:16, 78.56s/it]Epoch 8 starts !\n",
      "2021-12-14 04:55:51 [INFO]---------------------------------------------------------------------------------\n",
      "2021-12-14 04:57:11 [INFO]-[Training Epoch 8], log_like_loss 1.310059041948989 kl_loss: 0.3967238815384917 alpha: 0.001 lr: 0.001\n",
      "2021-12-14 04:57:11 [INFO]-Execute [train_an_epoch] method costing 79749.89 ms\n",
      " 11%|#1        | 9/80 [11:48<1:33:23, 78.92s/it]Epoch 9 starts !\n",
      "2021-12-14 04:57:11 [INFO]---------------------------------------------------------------------------------\n",
      "2021-12-14 04:58:31 [INFO]-[Training Epoch 9], log_like_loss 1.2587989286985248 kl_loss: 0.4120382224791683 alpha: 0.001 lr: 0.001\n",
      "2021-12-14 04:58:31 [INFO]-Execute [train_an_epoch] method costing 79530.51 ms\n",
      " 12%|#2        | 10/80 [13:07<1:32:18, 79.12s/it]Epoch 10 starts !\n",
      "2021-12-14 04:58:31 [INFO]---------------------------------------------------------------------------------\n",
      "2021-12-14 04:59:50 [INFO]-[Training Epoch 10], log_like_loss 1.212694893591106 kl_loss: 0.421502212586347 alpha: 0.001 lr: 0.001\n",
      "2021-12-14 04:59:50 [INFO]-Execute [train_an_epoch] method costing 79654.83 ms\n",
      " 14%|#3        | 11/80 [14:27<1:31:10, 79.28s/it]Epoch 11 starts !\n",
      "2021-12-14 04:59:50 [INFO]---------------------------------------------------------------------------------\n"
     ]
    }
   ],
   "source": [
    "from beta_rec.recommenders import VBCAR\n",
    "\n",
    "for item_fea_type in [\n",
    "    #     \"random\",\n",
    "    #     \"cate\",\n",
    "    #     \"cate_word2vec\",\n",
    "    #     \"cate_bert\",\n",
    "    #     \"cate_one_hot\",\n",
    "    #     \"random_word2vec\",\n",
    "    #     \"random_bert\",\n",
    "    \"random_one_hot\",\n",
    "    \"random_bert_word2vec_one_hot\",\n",
    "    \"random_cate_word2vec\",\n",
    "    \"random_cate_bert\",\n",
    "    \"random_cate_one_hot\",\n",
    "    \"random_cate_bert_word2vec_one_hot\",\n",
    "]:\n",
    "    config[\"item_fea_type\"] = item_fea_type\n",
    "    model = VBCAR(config)\n",
    "    model.train(data)\n",
    "# @To be discussed\n",
    "# model.train(train_df)\n",
    "# Case 1, without validation, stop training by loss or max_epoch\n",
    "\n",
    "# model.train(train_df,valid_df[0])\n",
    "# Case 2, with validation, stop training by performance on validation set\n",
    "\n",
    "# model.train(train_df,valid_df[0],test_df[0])\n",
    "# Case 3, same as Case 2, but also evaluate performance for each epoch on test set.\n",
    "\n",
    "# Note that the best model will be save automatically, and record the model-save-dir."
   ]
  },
  {
   "cell_type": "code",
   "execution_count": null,
   "metadata": {},
   "outputs": [],
   "source": [
    " model.test(data.test)"
   ]
  }
 ],
 "metadata": {
  "kernelspec": {
   "display_name": "beta_rec",
   "language": "python",
   "name": "beta_rec"
  },
  "language_info": {
   "codemirror_mode": {
    "name": "ipython",
    "version": 3
   },
   "file_extension": ".py",
   "mimetype": "text/x-python",
   "name": "python",
   "nbconvert_exporter": "python",
   "pygments_lexer": "ipython3",
   "version": "3.8.5"
  }
 },
 "nbformat": 4,
 "nbformat_minor": 4
}
