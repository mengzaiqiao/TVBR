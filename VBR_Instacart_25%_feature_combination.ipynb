{
 "cells": [
  {
   "cell_type": "markdown",
   "metadata": {},
   "source": [
    "### Install Beta-recsys"
   ]
  },
  {
   "cell_type": "markdown",
   "metadata": {},
   "source": [
    "## Loading dataset"
   ]
  },
  {
   "cell_type": "code",
   "execution_count": null,
   "metadata": {},
   "outputs": [],
   "source": [
    "import sys\n",
    "\n",
    "sys.path.append(\"../\")\n",
    "\n",
    "import random\n",
    "\n",
    "import numpy as np\n",
    "\n",
    "from beta_rec.data.grocery_data import GroceryData\n",
    "from beta_rec.datasets.instacart import Instacart_25\n",
    "\n",
    "seed = 2021\n",
    "random.seed(seed)  # Fix random seeds for reproducibility\n",
    "np.random.seed(seed)\n",
    "\n",
    "# make sure that you have already download the Instacart data from this link: https://www.kaggle.com/c/instacart-market-basket-analysis#\n",
    "# uncompressed them and put them in this folder: ../datasets/instacart_25/raw/*.csv\n",
    "\n",
    "\n",
    "dataset = Instacart_25(\n",
    "    min_u_c=20, min_i_c=30, min_o_c=10\n",
    ")  # Specifying the filtering conditions.\n",
    "\n",
    "# Split the data\n",
    "split_dataset = dataset.load_temporal_basket_split(test_rate=0.2, n_test=10)\n",
    "data = GroceryData(split_dataset)"
   ]
  },
  {
   "cell_type": "markdown",
   "metadata": {},
   "source": [
    "### Model config"
   ]
  },
  {
   "cell_type": "code",
   "execution_count": null,
   "metadata": {},
   "outputs": [],
   "source": [
    "config = {\"config_file\": \"../configs/vbcar_default.json\"}\n",
    "config[\"n_sample\"] = 1000000  # To reduce the test running time\n",
    "config[\"max_epoch\"] = 80\n",
    "config[\"emb_dim\"] = 64\n",
    "config[\"late_dim\"] = 512\n",
    "config[\"root_dir\"] = \"/home/zm324/workspace/beta-recsys/\"\n",
    "config[\"dataset\"] = \"instacart_25\"\n",
    "config[\"batch_size\"] = 512\n",
    "config[\"lr\"] = 0.001\n",
    "\n",
    "# config[\"item_fea_type\"] = \"random_word2vec\"\n",
    "# config[\"tunable\"] = [\n",
    "#     {\"name\": \"lr\", \"type\": \"choice\", \"values\": [0.5, 0.05, 0.025, 0.001, 0.005]},\n",
    "# ]\n",
    "# config[\"tune\"] = True\n",
    "# the 'config_file' key is required, that is used load a default config.\n",
    "# Other keys can be specified to replace the default settings."
   ]
  },
  {
   "cell_type": "markdown",
   "metadata": {},
   "source": [
    "### Model intialization and training"
   ]
  },
  {
   "cell_type": "code",
   "execution_count": null,
   "metadata": {},
   "outputs": [],
   "source": [
    "from beta_rec.recommenders import VBCAR\n",
    "\n",
    "for item_fea_type in [\n",
    "    #         \"random\",\n",
    "    #         \"cate\",\n",
    "    #         \"cate_word2vec\",\n",
    "    #         \"cate_bert\",\n",
    "    #         \"cate_one_hot\",\n",
    "    #         \"random_word2vec\",\n",
    "    #         \"random_bert\",\n",
    "    \"random_one_hot\",\n",
    "    \"random_bert_word2vec_one_hot\",\n",
    "    \"random_cate_word2vec\",\n",
    "    \"random_cate_bert\",\n",
    "    \"random_cate_one_hot\",\n",
    "    \"random_cate_bert_word2vec_one_hot\",\n",
    "]:\n",
    "    config[\"item_fea_type\"] = item_fea_type\n",
    "    model = VBCAR(config)\n",
    "    model.train(data)\n",
    "    model.test(data.test)\n",
    "# @To be discussed\n",
    "# model.train(train_df)\n",
    "# Case 1, without validation, stop training by loss or max_epoch\n",
    "\n",
    "# model.train(train_df,valid_df[0])\n",
    "# Case 2, with validation, stop training by performance on validation set\n",
    "\n",
    "# model.train(train_df,valid_df[0],test_df[0])\n",
    "# Case 3, same as Case 2, but also evaluate performance for each epoch on test set.\n",
    "\n",
    "# Note that the best model will be save automatically, and record the model-save-dir."
   ]
  }
 ],
 "metadata": {
  "kernelspec": {
   "display_name": "beta_rec",
   "language": "python",
   "name": "beta_rec"
  },
  "language_info": {
   "codemirror_mode": {
    "name": "ipython",
    "version": 3
   },
   "file_extension": ".py",
   "mimetype": "text/x-python",
   "name": "python",
   "nbconvert_exporter": "python",
   "pygments_lexer": "ipython3",
   "version": "3.8.5"
  }
 },
 "nbformat": 4,
 "nbformat_minor": 4
}
