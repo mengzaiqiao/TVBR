{
 "cells": [
  {
   "cell_type": "markdown",
   "metadata": {},
   "source": [
    "### Install Beta-recsys"
   ]
  },
  {
   "cell_type": "markdown",
   "metadata": {},
   "source": [
    "## Loading dataset"
   ]
  },
  {
   "cell_type": "code",
   "execution_count": 1,
   "metadata": {},
   "outputs": [
    {
     "name": "stdout",
     "output_type": "stream",
     "text": [
      "--------------------------------------------------------------------------------\n",
      "Loaded training set statistics\n",
      "+---------+------------+------------+--------------+-----------------+-------------+\n",
      "|         | col_user   | col_item   | col_rating   | col_timestamp   | col_order   |\n",
      "|---------+------------+------------+--------------+-----------------+-------------|\n",
      "| count   | 3857794    | 3857794    | 3857794      | 3857794         | 3857794     |\n",
      "| nunique | 23093      | 14565      | 1            | 3857794         | 373719      |\n",
      "+---------+------------+------------+--------------+-----------------+-------------+\n",
      "valid_data_0 statistics\n",
      "+---------+------------+------------+--------------+-----------------+\n",
      "|         | col_user   | col_item   | col_rating   | col_timestamp   |\n",
      "|---------+------------+------------+--------------+-----------------|\n",
      "| count   | 3076168    | 3076168    | 3076168      | 3076168         |\n",
      "| nunique | 22475      | 14565      | 2            | 1               |\n",
      "+---------+------------+------------+--------------+-----------------+\n",
      "test_data_0 statistics\n",
      "+---------+------------+------------+--------------+-----------------+\n",
      "|         | col_user   | col_item   | col_rating   | col_timestamp   |\n",
      "|---------+------------+------------+--------------+-----------------|\n",
      "| count   | 3072601    | 3072601    | 3072601      | 3072601         |\n",
      "| nunique | 22434      | 14565      | 2            | 1               |\n",
      "+---------+------------+------------+--------------+-----------------+\n",
      "--------------------------------------------------------------------------------\n",
      "After intersection, testing set [0] statistics\n",
      "+---------+------------+------------+--------------+-----------------+\n",
      "|         | col_user   | col_item   | col_rating   | col_timestamp   |\n",
      "|---------+------------+------------+--------------+-----------------|\n",
      "| count   | 3072601    | 3072601    | 3072601      | 3072601         |\n",
      "| nunique | 22434      | 14565      | 2            | 1               |\n",
      "+---------+------------+------------+--------------+-----------------+\n",
      "After intersection, validation set [0] statistics\n",
      "+---------+------------+------------+--------------+-----------------+\n",
      "|         | col_user   | col_item   | col_rating   | col_timestamp   |\n",
      "|---------+------------+------------+--------------+-----------------|\n",
      "| count   | 3076168    | 3076168    | 3076168      | 3076168         |\n",
      "| nunique | 22475      | 14565      | 2            | 1               |\n",
      "+---------+------------+------------+--------------+-----------------+\n",
      "Filling alias table\n",
      "Filling alias table\n",
      "Execute [__init__] method costing 84976.82 ms\n",
      "Execute [__init__] method costing 0.00 ms\n"
     ]
    }
   ],
   "source": [
    "import sys\n",
    "\n",
    "sys.path.append(\"../\")\n",
    "\n",
    "import random\n",
    "\n",
    "import numpy as np\n",
    "\n",
    "from beta_rec.data.grocery_data import GroceryData\n",
    "from beta_rec.datasets.instacart import Instacart_25\n",
    "\n",
    "seed = 2021\n",
    "random.seed(seed)  # Fix random seeds for reproducibility\n",
    "np.random.seed(seed)\n",
    "\n",
    "# make sure that you have already download the Instacart data from this link: https://www.kaggle.com/c/instacart-market-basket-analysis#\n",
    "# uncompressed them and put them in this folder: ../datasets/instacart_25/raw/*.csv\n",
    "\n",
    "\n",
    "dataset = Instacart_25(\n",
    "    min_u_c=20, min_i_c=30, min_o_c=10\n",
    ")  # Specifying the filtering conditions.\n",
    "\n",
    "# Split the data\n",
    "split_dataset = dataset.load_temporal_basket_split(test_rate=0.2, n_test=10)\n",
    "data = GroceryData(split_dataset)"
   ]
  },
  {
   "cell_type": "markdown",
   "metadata": {},
   "source": [
    "### Model config"
   ]
  },
  {
   "cell_type": "code",
   "execution_count": 2,
   "metadata": {},
   "outputs": [],
   "source": [
    "config = {\"config_file\": \"../configs/vbcar_default.json\"}\n",
    "config[\"n_sample\"] = 1000000  # To reduce the test running time\n",
    "config[\"max_epoch\"] = 80\n",
    "config[\"emb_dim\"] = 64\n",
    "config[\"root_dir\"] = \"/home/zm324/workspace/beta-recsys/\"\n",
    "config[\"dataset\"] = \"instacart_25\"\n",
    "config[\"batch_size\"] = 2048\n",
    "config[\"lr\"] = 0.001\n",
    "\n",
    "# config[\"item_fea_type\"] = \"random_word2vec\"\n",
    "# config[\"tunable\"] = [\n",
    "#     {\"name\": \"lr\", \"type\": \"choice\", \"values\": [0.5, 0.05, 0.025, 0.001, 0.005]},\n",
    "# ]\n",
    "# config[\"tune\"] = True\n",
    "# the 'config_file' key is required, that is used load a default config.\n",
    "# Other keys can be specified to replace the default settings."
   ]
  },
  {
   "cell_type": "markdown",
   "metadata": {},
   "source": [
    "### Model intialization and training"
   ]
  },
  {
   "cell_type": "code",
   "execution_count": null,
   "metadata": {},
   "outputs": [
    {
     "name": "stdout",
     "output_type": "stream",
     "text": [
      "Search default config file in /home/zm324/anaconda3/envs/beta_rec/configs/vbcar_default.json\n",
      "Found default config file in /home/zm324/anaconda3/envs/beta_rec/configs/vbcar_default.json\n",
      "loading config file /home/zm324/anaconda3/envs/beta_rec/configs/vbcar_default.json\n",
      "--------------------------------------------------------------------------------\n",
      "Received parameters from command line (or default):\n",
      "+----+-----------------------+------------------------------------+\n",
      "|    | keys                  | values                             |\n",
      "|----+-----------------------+------------------------------------|\n",
      "|  0 | system:root_dir       | /home/zm324/workspace/beta-recsys/ |\n",
      "|  1 | model:n_sample        | 1000000                            |\n",
      "|  2 | model:max_epoch       | 80                                 |\n",
      "|  3 | model:emb_dim         | 64                                 |\n",
      "|  4 | model:batch_size      | 2048                               |\n",
      "|  5 | model:lr              | 0.001                              |\n",
      "|  6 | dataset:dataset       | instacart_25                       |\n",
      "|  7 | dataset:item_fea_type | random                             |\n",
      "+----+-----------------------+------------------------------------+\n",
      "--------------------------------------------------------------------------------\n",
      "logs will save in file: /home/zm324/workspace/beta-recsys/logs/VBCAR_default_20211214_044316_murihu .stdout.log .stderr.log\n",
      "2021-12-14 04:43:16 [INFO]-\n",
      "Python version: 3.8.5 (default, Sep  4 2020, 07:30:14) \n",
      "[GCC 7.3.0\n",
      "2021-12-14 04:43:16 [INFO]-\n",
      "2021-12-14 04:43:16 [INFO]-Pytorch version: 1.7.1\n",
      "2021-12-14 04:43:16 [INFO]-The intermediate running statuses will be reported in folder: /home/zm324/workspace/beta-recsys/runs/VBCAR_default_20211214_044316_murihu\n",
      "2021-12-14 04:43:16 [INFO]-Model checkpoint will save in file: /home/zm324/workspace/beta-recsys/checkpoints/VBCAR_default_20211214_044316_murihu\n",
      "2021-12-14 04:43:16 [INFO]-Performance result will save in file: /home/zm324/workspace/beta-recsys/results/vbcar_result.csv\n",
      "2021-12-14 04:43:16 [INFO]---------------------------------------------------------------------------------\n",
      "2021-12-14 04:43:16 [INFO]-System configs\n",
      "2021-12-14 04:43:16 [INFO]-\n",
      "+----+----------------+------------------------------------------------------------------------------------+\n",
      "|    | keys           | values                                                                             |\n",
      "|----+----------------+------------------------------------------------------------------------------------|\n",
      "|  0 | root_dir       | /home/zm324/workspace/beta-recsys                                                  |\n",
      "|  1 | log_dir        | logs/                                                                              |\n",
      "|  2 | result_dir     | results/                                                                           |\n",
      "|  3 | process_dir    | /home/zm324/workspace/beta-recsys/processes/                                       |\n",
      "|  4 | checkpoint_dir | checkpoints/                                                                       |\n",
      "|  5 | dataset_dir    | datasets/                                                                          |\n",
      "|  6 | run_dir        | /home/zm324/workspace/beta-recsys/runs/VBCAR_default_20211214_044316_murihu        |\n",
      "|  7 | tune_dir       | /home/zm324/workspace/beta-recsys/tune_results/                                    |\n",
      "|  8 | device         | gpu                                                                                |\n",
      "|  9 | seed           | 2020                                                                               |\n",
      "| 10 | metrics        | ['ndcg', 'precision', 'recall', 'map']                                             |\n",
      "| 11 | k              | [5, 10, 20]                                                                        |\n",
      "| 12 | valid_metric   | ndcg                                                                               |\n",
      "| 13 | valid_k        | 10                                                                                 |\n",
      "| 14 | result_file    | /home/zm324/workspace/beta-recsys/results/vbcar_result.csv                         |\n",
      "| 15 | save_mode      | average                                                                            |\n",
      "| 16 | model_run_id   | VBCAR_default_20211214_044316_murihu                                               |\n",
      "| 17 | log_file       | /home/zm324/workspace/beta-recsys/logs/VBCAR_default_20211214_044316_murihu        |\n",
      "| 18 | model_save_dir | /home/zm324/workspace/beta-recsys/checkpoints/VBCAR_default_20211214_044316_murihu |\n",
      "+----+----------------+------------------------------------------------------------------------------------\n",
      "2021-12-14 04:43:16 [INFO]-\n",
      "2021-12-14 04:43:16 [INFO]---------------------------------------------------------------------------------\n"
     ]
    },
    {
     "name": "stderr",
     "output_type": "stream",
     "text": [
      "2021-12-14 04:43:16 [ERROR]-Failed to detect the name of this notebook, you can set it manually with the WANDB_NOTEBOOK_NAME environment variable to enable code saving.\n",
      "2021-12-14 04:43:16 [ERROR]-wandb: Currently logged in as: mengzaiqiao (use `wandb login --relogin` to force relogin)\n"
     ]
    },
    {
     "data": {
      "text/html": [
       "\n",
       "                    Syncing run <strong><a href=\"https://wandb.ai/mengzaiqiao/VBCAR/runs/1zr8yg36\" target=\"_blank\">proud-bee-86</a></strong> to <a href=\"https://wandb.ai/mengzaiqiao/VBCAR\" target=\"_blank\">Weights & Biases</a> (<a href=\"https://docs.wandb.com/integrations/jupyter.html\" target=\"_blank\">docs</a>).<br/>\n",
       "\n",
       "                "
      ],
      "text/plain": [
       "<IPython.core.display.HTML object>"
      ]
     },
     "metadata": {},
     "output_type": "display_data"
    },
    {
     "name": "stdout",
     "output_type": "stream",
     "text": [
      "2021-12-14 04:43:17 [INFO]-Get a gpu with the most available memory : 0\n",
      "2021-12-14 04:43:17 [INFO]-Initializing test engine ...\n",
      "2021-12-14 04:43:17 [INFO]-Get a gpu with the most available memory : 0\n",
      "2021-12-14 04:43:19 [INFO]-Setting device for torch_engine cuda:0\n",
      "2021-12-14 04:43:19 [INFO]-\n",
      "VBCAR(\n",
      "  (user_emb): Embedding(23093, 64)\n",
      "  (item_emb): Embedding(14565, 64)\n",
      "  (fc_u_1_mu): Linear(in_features=512, out_features=256, bias=True)\n",
      "  (fc_u_2_mu): Linear(in_features=256, out_features=128, bias=True)\n",
      "  (fc_i_1_mu): Linear(in_features=512, out_features=256, bias=True)\n",
      "  (fc_i_2_mu): Linear(in_features=256, out_features=128, bias=True)\n",
      "\n",
      "2021-12-14 04:43:19 [INFO]-\n",
      "2021-12-14 04:43:21 [INFO]-Initialize Sampler!\n",
      "2021-12-14 04:43:21 [INFO]-Preparing training triples ... \n"
     ]
    },
    {
     "name": "stderr",
     "output_type": "stream",
     "text": [
      "2021-12-14 04:43:22 [ERROR]-wandb: WARNING When using several event log directories, please call wandb.tensorboard.patch(root_logdir=\"...\") before wandb.init\n",
      "2021-12-14 04:43:22 [ERROR]-wandb: WARNING When using several event log directories, please call wandb.tensorboard.patch(root_logdir=\"...\") before wandb.init\n",
      "2021-12-14 04:43:22 [ERROR]-wandb: WARNING When using several event log directories, please call wandb.tensorboard.patch(root_logdir=\"...\") before wandb.init\n",
      "2021-12-14 04:43:22 [ERROR]-wandb: WARNING When using several event log directories, please call wandb.tensorboard.patch(root_logdir=\"...\") before wandb.init\n",
      "2021-12-14 04:43:23 [ERROR]-wandb: WARNING When using several event log directories, please call wandb.tensorboard.patch(root_logdir=\"...\") before wandb.init\n"
     ]
    },
    {
     "name": "stdout",
     "output_type": "stream",
     "text": [
      "100%|##########| 1000000/1000000 [01:43<00:00, 9690.93it/s]\n",
      "2021-12-14 04:45:23 [INFO]-done!\n",
      "  0%|          | 0/80 [00:00<?, ?it/s]Epoch 0 starts !\n",
      "2021-12-14 04:45:25 [INFO]---------------------------------------------------------------------------------\n",
      "2021-12-14 04:46:45 [INFO]-[Training Epoch 0], log_like_loss 2.091754156164825 kl_loss: 0.07856130030268105 alpha: 0.001 lr: 0.001\n"
     ]
    },
    {
     "name": "stderr",
     "output_type": "stream",
     "text": [
      "2021-12-14 04:46:45 [ERROR]-wandb: WARNING When using several event log directories, please call wandb.tensorboard.patch(root_logdir=\"...\") before wandb.init\n",
      "2021-12-14 04:46:45 [ERROR]-wandb: WARNING When using several event log directories, please call wandb.tensorboard.patch(root_logdir=\"...\") before wandb.init\n",
      "2021-12-14 04:46:45 [ERROR]-wandb: WARNING When using several event log directories, please call wandb.tensorboard.patch(root_logdir=\"...\") before wandb.init\n"
     ]
    },
    {
     "name": "stdout",
     "output_type": "stream",
     "text": [
      "2021-12-14 04:46:45 [INFO]-Execute [train_an_epoch] method costing 79548.32 ms\n",
      "  1%|1         | 1/80 [01:19<1:44:44, 79.55s/it]Epoch 1 starts !\n",
      "2021-12-14 04:46:45 [INFO]---------------------------------------------------------------------------------\n",
      "2021-12-14 04:48:04 [INFO]-[Training Epoch 1], log_like_loss 1.8370877490378916 kl_loss: 0.17625896498793736 alpha: 0.001 lr: 0.001\n",
      "2021-12-14 04:48:04 [INFO]-Execute [train_an_epoch] method costing 79198.45 ms\n",
      "  2%|2         | 2/80 [02:38<1:43:17, 79.45s/it]Epoch 2 starts !\n",
      "2021-12-14 04:48:04 [INFO]---------------------------------------------------------------------------------\n",
      "2021-12-14 04:49:23 [INFO]-[Training Epoch 2], log_like_loss 1.7355930029880255 kl_loss: 0.24716708407504484 alpha: 0.001 lr: 0.001\n",
      "2021-12-14 04:49:23 [INFO]-Execute [train_an_epoch] method costing 79357.95 ms\n",
      "  4%|3         | 3/80 [03:58<1:41:56, 79.43s/it]Epoch 3 starts !\n",
      "2021-12-14 04:49:23 [INFO]---------------------------------------------------------------------------------\n",
      "2021-12-14 04:50:43 [INFO]-[Training Epoch 3], log_like_loss 1.6493169663008302 kl_loss: 0.28425467322813347 alpha: 0.001 lr: 0.001\n",
      "2021-12-14 04:50:43 [INFO]-Execute [train_an_epoch] method costing 79465.04 ms\n",
      "  5%|5         | 4/80 [05:17<1:40:37, 79.45s/it]Epoch 4 starts !\n",
      "2021-12-14 04:50:43 [INFO]---------------------------------------------------------------------------------\n",
      "2021-12-14 04:52:02 [INFO]-[Training Epoch 4], log_like_loss 1.5709102733526379 kl_loss: 0.3146718041389249 alpha: 0.001 lr: 0.001\n",
      "2021-12-14 04:52:02 [INFO]-Execute [train_an_epoch] method costing 79679.45 ms\n",
      "  6%|6         | 5/80 [06:37<1:39:24, 79.52s/it]Epoch 5 starts !\n",
      "2021-12-14 04:52:02 [INFO]---------------------------------------------------------------------------------\n",
      "2021-12-14 04:53:22 [INFO]-[Training Epoch 5], log_like_loss 106132743540.57771 kl_loss: 1.5050880273338407 alpha: 0.001 lr: 0.001\n",
      "2021-12-14 04:53:22 [INFO]-Execute [train_an_epoch] method costing 79566.91 ms\n",
      "  8%|7         | 6/80 [07:56<1:38:06, 79.55s/it]Epoch 6 starts !\n",
      "2021-12-14 04:53:22 [INFO]---------------------------------------------------------------------------------\n",
      "2021-12-14 04:54:41 [INFO]-[Training Epoch 6], log_like_loss 1898829162.028473 kl_loss: 1.789896415779367 alpha: 0.001 lr: 0.001\n",
      "2021-12-14 04:54:41 [INFO]-Execute [train_an_epoch] method costing 79273.23 ms\n",
      "  9%|8         | 7/80 [09:16<1:36:41, 79.47s/it]Epoch 7 starts !\n",
      "2021-12-14 04:54:41 [INFO]---------------------------------------------------------------------------------\n",
      "2021-12-14 04:56:01 [INFO]-[Training Epoch 7], log_like_loss 38184629.99254608 kl_loss: 1.7579312205780298 alpha: 0.001 lr: 0.001\n",
      "2021-12-14 04:56:01 [INFO]-Execute [train_an_epoch] method costing 79350.96 ms\n",
      " 10%|#         | 8/80 [10:35<1:35:19, 79.44s/it]Epoch 8 starts !\n",
      "2021-12-14 04:56:01 [INFO]---------------------------------------------------------------------------------\n",
      "2021-12-14 04:57:20 [INFO]-[Training Epoch 8], log_like_loss 9932959.159519196 kl_loss: 1.7187998876906931 alpha: 0.001 lr: 0.001\n",
      "2021-12-14 04:57:20 [INFO]-Execute [train_an_epoch] method costing 79556.36 ms\n",
      " 11%|#1        | 9/80 [11:55<1:34:03, 79.49s/it]Epoch 9 starts !\n",
      "2021-12-14 04:57:20 [INFO]---------------------------------------------------------------------------------\n",
      "2021-12-14 04:58:40 [INFO]-[Training Epoch 9], log_like_loss 1007459.1423511505 kl_loss: 1.6764513426460326 alpha: 0.001 lr: 0.001\n",
      "2021-12-14 04:58:40 [INFO]-Execute [train_an_epoch] method costing 79344.26 ms\n",
      " 12%|#2        | 10/80 [13:14<1:32:41, 79.45s/it]Epoch 10 starts !\n",
      "2021-12-14 04:58:40 [INFO]---------------------------------------------------------------------------------\n",
      "2021-12-14 04:59:59 [INFO]-[Training Epoch 10], log_like_loss 112514.10288977623 kl_loss: 1.6264139839913696 alpha: 0.001 lr: 0.001\n",
      "2021-12-14 04:59:59 [INFO]-Execute [train_an_epoch] method costing 79241.75 ms\n",
      " 14%|#3        | 11/80 [14:33<1:31:18, 79.40s/it]Epoch 11 starts !\n",
      "2021-12-14 04:59:59 [INFO]---------------------------------------------------------------------------------\n"
     ]
    }
   ],
   "source": [
    "from beta_rec.recommenders import VBCAR\n",
    "\n",
    "for item_fea_type in [\n",
    "    \"random\",\n",
    "    \"cate\",\n",
    "    \"cate_word2vec\",\n",
    "    \"cate_bert\",\n",
    "    \"cate_one_hot\",\n",
    "    \"random_word2vec\",\n",
    "    \"random_bert\",\n",
    "    #     \"random_one_hot\",\n",
    "    #     \"random_bert_word2vec_one_hot\",\n",
    "    #     \"random_cate_word2vec\",\n",
    "    #     \"random_cate_bert\",\n",
    "    #     \"random_cate_one_hot\",\n",
    "    #     \"random_cate_bert_word2vec_one_hot\",\n",
    "]:\n",
    "    config[\"item_fea_type\"] = item_fea_type\n",
    "    model = VBCAR(config)\n",
    "    model.train(data)\n",
    "# @To be discussed\n",
    "# model.train(train_df)\n",
    "# Case 1, without validation, stop training by loss or max_epoch\n",
    "\n",
    "# model.train(train_df,valid_df[0])\n",
    "# Case 2, with validation, stop training by performance on validation set\n",
    "\n",
    "# model.train(train_df,valid_df[0],test_df[0])\n",
    "# Case 3, same as Case 2, but also evaluate performance for each epoch on test set.\n",
    "\n",
    "# Note that the best model will be save automatically, and record the model-save-dir."
   ]
  },
  {
   "cell_type": "code",
   "execution_count": null,
   "metadata": {},
   "outputs": [],
   "source": [
    "model.test(data.test)"
   ]
  },
  {
   "cell_type": "code",
   "execution_count": null,
   "metadata": {},
   "outputs": [],
   "source": []
  }
 ],
 "metadata": {
  "kernelspec": {
   "display_name": "beta_rec",
   "language": "python",
   "name": "beta_rec"
  },
  "language_info": {
   "codemirror_mode": {
    "name": "ipython",
    "version": 3
   },
   "file_extension": ".py",
   "mimetype": "text/x-python",
   "name": "python",
   "nbconvert_exporter": "python",
   "pygments_lexer": "ipython3",
   "version": "3.8.5"
  }
 },
 "nbformat": 4,
 "nbformat_minor": 4
}
