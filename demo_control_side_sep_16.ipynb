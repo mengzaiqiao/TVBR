{
 "cells": [
  {
   "cell_type": "markdown",
   "metadata": {},
   "source": [
    "### Import packages"
   ]
  },
  {
   "cell_type": "code",
   "execution_count": 1,
   "metadata": {},
   "outputs": [],
   "source": [
    "import os\n",
    "import sys\n",
    "import time\n",
    "from datetime import datetime\n",
    "\n",
    "import GPUtil\n",
    "import psutil\n",
    "\n",
    "#######################\n",
    "# run after two days\n",
    "# time.sleep(172800)\n",
    "\n",
    "#######################\n",
    "os.environ[\"CUDA_VISIBLE_DEVICES\"] = \"0,1,2,3\"\n",
    "sys.path.append(\"../\")"
   ]
  },
  {
   "cell_type": "code",
   "execution_count": 2,
   "metadata": {},
   "outputs": [],
   "source": [
    "def gpu_free(max_gb):\n",
    "    gpu_id = GPUtil.getFirstAvailable(\n",
    "        order=\"memory\"\n",
    "    )  # get the fist gpu with the lowest load\n",
    "    GPU = GPUtil.getGPUs()[gpu_id[0]]\n",
    "    GPU_load = GPU.load * 100\n",
    "    GPU_memoryUtil = GPU.memoryUtil / 2.0 ** 10\n",
    "    GPU_memoryTotal = GPU.memoryTotal / 2.0 ** 10\n",
    "    GPU_memoryUsed = GPU.memoryUsed / 2.0 ** 10\n",
    "    GPU_memoryFree = GPU.memoryFree / 2.0 ** 10\n",
    "    print(\n",
    "        \"-- total_GPU_memory: %.3fGB;init_GPU_memoryFree:%.3fGB init_GPU_load:%.3f%% GPU_memoryUtil:%d%% GPU_memoryUsed:%.3fGB\"\n",
    "        % (GPU_memoryTotal, GPU_memoryFree, GPU_load, GPU_memoryUtil, GPU_memoryUsed)\n",
    "    )\n",
    "    if GPU_memoryFree > max_gb:\n",
    "        return True\n",
    "    return False\n",
    "\n",
    "\n",
    "def memery_free(max_gb):\n",
    "    available_memory = psutil.virtual_memory().free / 2.0 ** 30\n",
    "    if available_memory > max_gb:\n",
    "        return True\n",
    "    return False"
   ]
  },
  {
   "cell_type": "code",
   "execution_count": null,
   "metadata": {},
   "outputs": [
    {
     "name": "stdout",
     "output_type": "stream",
     "text": [
      "-- total_GPU_memory: 10.761GB;init_GPU_memoryFree:10.760GB init_GPU_load:0.000% GPU_memoryUtil:0% GPU_memoryUsed:0.001GB\n",
      "GPU memery and main memery availale, start a job\n",
      "-- total_GPU_memory: 10.761GB;init_GPU_memoryFree:10.757GB init_GPU_load:0.000% GPU_memoryUtil:0% GPU_memoryUsed:0.004GB\n",
      "GPU memery and main memery availale, start a job\n"
     ]
    }
   ],
   "source": [
    "for item_fea_type in [\n",
    "    \"random\",\n",
    "    \"cate\",\n",
    "    \"cate_word2vec\",\n",
    "    \"cate_bert\",\n",
    "    \"cate_one_hot\",\n",
    "    \"random_word2vec\",\n",
    "    \"random_bert\",\n",
    "    \"random_one_hot\",\n",
    "    \"random_bert_word2vec_one_hot\",\n",
    "    \"random_cate_word2vec\",\n",
    "    \"random_cate_bert\",\n",
    "    \"random_cate_one_hot\",\n",
    "    \"random_cate_bert_word2vec_one_hot\",\n",
    "]:\n",
    "    while True:\n",
    "        if gpu_free(4) and memery_free(10):\n",
    "            os.environ[\"CUDA_VISIBLE_DEVICES\"] = \"0,1,2,3\"\n",
    "            gpu_id = GPUtil.getAvailable(order=\"memory\", limit=4)[\n",
    "                0\n",
    "            ]  # get the fist gpu with the lowest load\n",
    "            print(\"GPU memery and main memery availale, start a job\")\n",
    "            date_time = datetime.now().strftime(\"%Y_%m_%d_%H_%M_%S\")\n",
    "            command = f\"CUDA_VISIBLE_DEVICES=0,1,2,3; /home/zm324/anaconda3/envs/beta_rec/bin/python run_tvbr.py --item_fea_type {item_fea_type} --device cuda:{gpu_id} >> ./logs/{date_time}_{item_fea_type}.log &\"\n",
    "            os.system(command)\n",
    "            time.sleep(120)\n",
    "            break\n",
    "        else:\n",
    "            print(\"GPU not availale, sleep for 10 min\")\n",
    "            time.sleep(600)\n",
    "            continue"
   ]
  }
 ],
 "metadata": {
  "kernelspec": {
   "display_name": "beta_rec",
   "language": "python",
   "name": "beta_rec"
  },
  "language_info": {
   "codemirror_mode": {
    "name": "ipython",
    "version": 3
   },
   "file_extension": ".py",
   "mimetype": "text/x-python",
   "name": "python",
   "nbconvert_exporter": "python",
   "pygments_lexer": "ipython3",
   "version": "3.8.5"
  }
 },
 "nbformat": 4,
 "nbformat_minor": 4
}
