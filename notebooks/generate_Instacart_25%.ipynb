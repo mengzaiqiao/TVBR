{
 "cells": [
  {
   "cell_type": "markdown",
   "metadata": {},
   "source": [
    "### Install Beta-recsys"
   ]
  },
  {
   "cell_type": "markdown",
   "metadata": {},
   "source": [
    "## Loading dataset"
   ]
  },
  {
   "cell_type": "code",
   "execution_count": 32,
   "metadata": {},
   "outputs": [
    {
     "name": "stdout",
     "output_type": "stream",
     "text": [
      "Start loading data from raw data\n",
      "Start sampling 25% users from the raw data\n",
      "Loading raw data completed\n",
      "--------------------------------------------------------------------------------\n",
      "Raw interaction statistics\n",
      "+---------+------------+------------+--------------+-----------------+-------------+\n",
      "|         | col_user   | col_item   | col_rating   | col_timestamp   | col_order   |\n",
      "|---------+------------+------------+--------------+-----------------+-------------|\n",
      "| count   | 8415977    | 8415977    | 8415977      | 8415977         | 8415977     |\n",
      "| nunique | 51552      | 47254      | 1            | 8415977         | 833644      |\n",
      "+---------+------------+------------+--------------+-----------------+-------------+\n",
      "--------------------------------------------------------------------------------\n",
      "filter_user_item_order under condition min_u_c=20, min_i_c=30, min_o_c=10\n",
      "--------------------------------------------------------------------------------\n",
      "Dataset statistics before filter\n",
      "+---------+------------+------------+--------------+-----------------+-------------+\n",
      "|         | col_user   | col_item   | col_rating   | col_timestamp   | col_order   |\n",
      "|---------+------------+------------+--------------+-----------------+-------------|\n",
      "| count   | 8415977    | 8415977    | 8415977      | 8415977         | 8415977     |\n",
      "| nunique | 51552      | 47254      | 1            | 8415977         | 833644      |\n",
      "+---------+------------+------------+--------------+-----------------+-------------+\n",
      "Dataset statistics after filter\n",
      "+---------+------------+------------+--------------+-----------------+-------------+\n",
      "|         | col_user   | col_item   | col_rating   | col_timestamp   | col_order   |\n",
      "|---------+------------+------------+--------------+-----------------+-------------|\n",
      "| count   | 6430312    | 6430312    | 6430312      | 6430312         | 6430312     |\n",
      "| nunique | 23093      | 14565      | 1            | 6430312         | 622867      |\n",
      "+---------+------------+------------+--------------+-----------------+-------------+\n",
      "--------------------------------------------------------------------------------\n",
      "--------------------------------------------------------------------------------\n",
      "Interaction statistics after filtering -- min_u_c:20, min_i_c:30, min_o_c:10.\n",
      "+---------+------------+------------+--------------+-----------------+-------------+\n",
      "|         | col_user   | col_item   | col_rating   | col_timestamp   | col_order   |\n",
      "|---------+------------+------------+--------------+-----------------+-------------|\n",
      "| count   | 6430312    | 6430312    | 6430312      | 6430312         | 6430312     |\n",
      "| nunique | 23093      | 14565      | 1            | 6430312         | 622867      |\n",
      "+---------+------------+------------+--------------+-----------------+-------------+\n",
      "--------------------------------------------------------------------------------\n",
      "Splitting data by temporal_basket ...\n",
      "temporal_split_basket\n",
      "Data is dumped in : /home/zm324/workspace/beta-recsys/datasets/instacart_25/processed/temporal_basket/full_test_rate_20_n_neg_100/train.npz\n",
      "Data is dumped in : /home/zm324/workspace/beta-recsys/datasets/instacart_25/processed/temporal_basket/full_test_rate_20_n_neg_100/valid.npz\n",
      "Data is dumped in : /home/zm324/workspace/beta-recsys/datasets/instacart_25/processed/temporal_basket/full_test_rate_20_n_neg_100/test.npz\n",
      "Filling alias table\n",
      "Data is dumped in : /home/zm324/workspace/beta-recsys/datasets/instacart_25/processed/temporal_basket/full_test_rate_20_n_neg_100/valid_0.npz\n",
      "Data is dumped in : /home/zm324/workspace/beta-recsys/datasets/instacart_25/processed/temporal_basket/full_test_rate_20_n_neg_100/test_0.npz\n",
      "Data is dumped in : /home/zm324/workspace/beta-recsys/datasets/instacart_25/processed/temporal_basket/full_test_rate_20_n_neg_100/valid_1.npz\n",
      "Data is dumped in : /home/zm324/workspace/beta-recsys/datasets/instacart_25/processed/temporal_basket/full_test_rate_20_n_neg_100/test_1.npz\n",
      "Data is dumped in : /home/zm324/workspace/beta-recsys/datasets/instacart_25/processed/temporal_basket/full_test_rate_20_n_neg_100/valid_2.npz\n",
      "Data is dumped in : /home/zm324/workspace/beta-recsys/datasets/instacart_25/processed/temporal_basket/full_test_rate_20_n_neg_100/test_2.npz\n",
      "Data is dumped in : /home/zm324/workspace/beta-recsys/datasets/instacart_25/processed/temporal_basket/full_test_rate_20_n_neg_100/valid_3.npz\n",
      "Data is dumped in : /home/zm324/workspace/beta-recsys/datasets/instacart_25/processed/temporal_basket/full_test_rate_20_n_neg_100/test_3.npz\n",
      "Data is dumped in : /home/zm324/workspace/beta-recsys/datasets/instacart_25/processed/temporal_basket/full_test_rate_20_n_neg_100/valid_4.npz\n",
      "Data is dumped in : /home/zm324/workspace/beta-recsys/datasets/instacart_25/processed/temporal_basket/full_test_rate_20_n_neg_100/test_4.npz\n",
      "Data is dumped in : /home/zm324/workspace/beta-recsys/datasets/instacart_25/processed/temporal_basket/full_test_rate_20_n_neg_100/valid_5.npz\n",
      "Data is dumped in : /home/zm324/workspace/beta-recsys/datasets/instacart_25/processed/temporal_basket/full_test_rate_20_n_neg_100/test_5.npz\n",
      "Data is dumped in : /home/zm324/workspace/beta-recsys/datasets/instacart_25/processed/temporal_basket/full_test_rate_20_n_neg_100/valid_6.npz\n",
      "Data is dumped in : /home/zm324/workspace/beta-recsys/datasets/instacart_25/processed/temporal_basket/full_test_rate_20_n_neg_100/test_6.npz\n",
      "Data is dumped in : /home/zm324/workspace/beta-recsys/datasets/instacart_25/processed/temporal_basket/full_test_rate_20_n_neg_100/valid_7.npz\n",
      "Data is dumped in : /home/zm324/workspace/beta-recsys/datasets/instacart_25/processed/temporal_basket/full_test_rate_20_n_neg_100/test_7.npz\n",
      "Data is dumped in : /home/zm324/workspace/beta-recsys/datasets/instacart_25/processed/temporal_basket/full_test_rate_20_n_neg_100/valid_8.npz\n",
      "Data is dumped in : /home/zm324/workspace/beta-recsys/datasets/instacart_25/processed/temporal_basket/full_test_rate_20_n_neg_100/test_8.npz\n",
      "Data is dumped in : /home/zm324/workspace/beta-recsys/datasets/instacart_25/processed/temporal_basket/full_test_rate_20_n_neg_100/valid_9.npz\n",
      "Data is dumped in : /home/zm324/workspace/beta-recsys/datasets/instacart_25/processed/temporal_basket/full_test_rate_20_n_neg_100/test_9.npz\n",
      "Execute [make_temporal_basket_split] method costing 4051707.79 ms\n",
      "--------------------------------------------------------------------------------\n",
      "Loaded training set statistics\n",
      "+---------+------------+------------+--------------+-----------------+-------------+\n",
      "|         | col_user   | col_item   | col_rating   | col_timestamp   | col_order   |\n",
      "|---------+------------+------------+--------------+-----------------+-------------|\n",
      "| count   | 3857794    | 3857794    | 3857794      | 3857794         | 3857794     |\n",
      "| nunique | 23093      | 14565      | 1            | 3857794         | 373719      |\n",
      "+---------+------------+------------+--------------+-----------------+-------------+\n",
      "valid_data_0 statistics\n",
      "+---------+------------+------------+--------------+-----------------+\n",
      "|         | col_user   | col_item   | col_rating   | col_timestamp   |\n",
      "|---------+------------+------------+--------------+-----------------|\n",
      "| count   | 3076168    | 3076168    | 3076168      | 3076168         |\n",
      "| nunique | 22475      | 14565      | 2            | 1               |\n",
      "+---------+------------+------------+--------------+-----------------+\n",
      "test_data_0 statistics\n",
      "+---------+------------+------------+--------------+-----------------+\n",
      "|         | col_user   | col_item   | col_rating   | col_timestamp   |\n",
      "|---------+------------+------------+--------------+-----------------|\n",
      "| count   | 3072601    | 3072601    | 3072601      | 3072601         |\n",
      "| nunique | 22434      | 14565      | 2            | 1               |\n",
      "+---------+------------+------------+--------------+-----------------+\n",
      "--------------------------------------------------------------------------------\n",
      "After intersection, testing set [0] statistics\n",
      "+---------+------------+------------+--------------+-----------------+\n",
      "|         | col_user   | col_item   | col_rating   | col_timestamp   |\n",
      "|---------+------------+------------+--------------+-----------------|\n",
      "| count   | 3072601    | 3072601    | 3072601      | 3072601         |\n",
      "| nunique | 22434      | 14565      | 2            | 1               |\n",
      "+---------+------------+------------+--------------+-----------------+\n",
      "After intersection, validation set [0] statistics\n",
      "+---------+------------+------------+--------------+-----------------+\n",
      "|         | col_user   | col_item   | col_rating   | col_timestamp   |\n",
      "|---------+------------+------------+--------------+-----------------|\n",
      "| count   | 3076168    | 3076168    | 3076168      | 3076168         |\n",
      "| nunique | 22475      | 14565      | 2            | 1               |\n",
      "+---------+------------+------------+--------------+-----------------+\n",
      "Filling alias table\n",
      "Filling alias table\n"
     ]
    }
   ],
   "source": [
    "import sys\n",
    "\n",
    "sys.path.append(\"../\")\n",
    "\n",
    "import random\n",
    "\n",
    "import numpy as np\n",
    "\n",
    "from beta_rec.data.grocery_data import GroceryData\n",
    "from beta_rec.datasets.instacart import Instacart_25\n",
    "\n",
    "seed = 2021\n",
    "random.seed(seed)  # Fix random seeds for reproducibility\n",
    "np.random.seed(seed)\n",
    "\n",
    "# make sure that you have already download the Instacart data from this link: https://www.kaggle.com/c/instacart-market-basket-analysis#\n",
    "# uncompressed them and put them in this folder: ../datasets/instacart_25/raw/*.csv\n",
    "\n",
    "\n",
    "dataset = Instacart_25(\n",
    "    min_u_c=20, min_i_c=30, min_o_c=10\n",
    ")  # Specifying the filtering conditions.\n",
    "dataset.preprocess()  ## Resample 25%\n",
    "\n",
    "# Split the data\n",
    "split_dataset = dataset.load_temporal_basket_split(\n",
    "    test_rate=0.2, n_test=10, force_redo=True\n",
    ")\n",
    "data = GroceryData(split_dataset)"
   ]
  },
  {
   "cell_type": "code",
   "execution_count": null,
   "metadata": {},
   "outputs": [],
   "source": [
    "import sys\n",
    "\n",
    "sys.path.append(\"../\")\n",
    "\n",
    "import random\n",
    "\n",
    "from beta_rec.data.grocery_data import GroceryData\n",
    "from beta_rec.datasets.instacart import Instacart_25\n",
    "\n",
    "random.seed(2021)  # Fix random seeds for reproducibility\n",
    "\n",
    "dataset = Instacart_25(min_u_c=20, min_i_c=30, min_o_c=10)\n",
    "dataset.preprocess()  ## Resample 25%\n",
    "split_dataset = dataset.load_temporal_basket_split(\n",
    "    test_rate=0.2, n_test=10, force_redo=True\n",
    ")\n",
    "data = GroceryData(split_dataset)"
   ]
  },
  {
   "cell_type": "code",
   "execution_count": null,
   "metadata": {},
   "outputs": [],
   "source": [
    "import sys\n",
    "\n",
    "sys.path.append(\"../\")\n",
    "\n",
    "import random\n",
    "\n",
    "from beta_rec.data.grocery_data import GroceryData\n",
    "from beta_rec.datasets.instacart import Instacart_25\n",
    "\n",
    "random.seed(2029)\n",
    "\n",
    "dataset = Instacart_25(min_u_c=20, min_i_c=30, min_o_c=10)\n",
    "dataset.preprocess()  ## Resample 25%\n",
    "split_dataset = dataset.load_temporal_basket_split(\n",
    "    test_rate=0.2, n_test=1, force_redo=True\n",
    ")\n",
    "# data = GroceryData(split_dataset)"
   ]
  },
  {
   "cell_type": "code",
   "execution_count": null,
   "metadata": {},
   "outputs": [],
   "source": [
    "import sys\n",
    "\n",
    "sys.path.append(\"../\")\n",
    "from beta_rec.data.grocery_data import GroceryData\n",
    "from beta_rec.datasets.instacart import Instacart_25\n",
    "\n",
    "dataset = Instacart_25(min_u_c=20, min_i_c=30, min_o_c=10,)\n",
    "split_dataset = dataset.load_temporal_basket_split()\n",
    "data = GroceryData(split_dataset)"
   ]
  },
  {
   "cell_type": "code",
   "execution_count": null,
   "metadata": {},
   "outputs": [],
   "source": [
    "import sys\n",
    "\n",
    "sys.path.append(\"../\")\n",
    "from beta_rec.data.grocery_data import GroceryData\n",
    "from beta_rec.datasets.instacart import Instacart_25\n",
    "\n",
    "dataset = Instacart_25(min_u_c=20, min_i_c=30, min_o_c=10,)\n",
    "split_dataset = dataset.load_temporal_basket_split()\n",
    "data = GroceryData(split_dataset)"
   ]
  },
  {
   "cell_type": "code",
   "execution_count": null,
   "metadata": {},
   "outputs": [],
   "source": [
    "!ls /home/zm324/workspace/beta_rec/datasets/instacart_25/raw"
   ]
  },
  {
   "cell_type": "markdown",
   "metadata": {},
   "source": [
    "### Model config"
   ]
  },
  {
   "cell_type": "code",
   "execution_count": null,
   "metadata": {},
   "outputs": [],
   "source": [
    "config = {\"config_file\": \"../configs/vbcar_default.json\"}\n",
    "config[\"n_sample\"] = 100000  # To reduce the test running time\n",
    "config[\"max_epoch\"] = 5\n",
    "# the 'config_file' key is required, that is used load a default config.\n",
    "# Other keys can be specified to replace the default settings."
   ]
  },
  {
   "cell_type": "markdown",
   "metadata": {},
   "source": [
    "### Model intialization and training"
   ]
  },
  {
   "cell_type": "code",
   "execution_count": null,
   "metadata": {},
   "outputs": [],
   "source": [
    "from beta_rec.recommenders import VBCAR\n",
    "\n",
    "model = VBCAR(config)\n",
    "model.train(data)\n",
    "\n",
    "# @To be discussed\n",
    "# model.train(train_df)\n",
    "# Case 1, without validation, stop training by loss or max_epoch\n",
    "\n",
    "# model.train(train_df,valid_df[0])\n",
    "# Case 2, with validation, stop training by performance on validation set\n",
    "\n",
    "# model.train(train_df,valid_df[0],test_df[0])\n",
    "# Case 3, same as Case 2, but also evaluate performance for each epoch on test set.\n",
    "\n",
    "# Note that the best model will be save automatically, and record the model-save-dir."
   ]
  },
  {
   "cell_type": "markdown",
   "metadata": {},
   "source": [
    "### Model trainng"
   ]
  },
  {
   "cell_type": "code",
   "execution_count": null,
   "metadata": {},
   "outputs": [],
   "source": [
    "model.test(data.test[0])"
   ]
  },
  {
   "cell_type": "markdown",
   "metadata": {},
   "source": [
    "### Load a pre-trained Model, and Predict for new dataset"
   ]
  },
  {
   "cell_type": "code",
   "execution_count": null,
   "metadata": {},
   "outputs": [],
   "source": [
    "from beta_rec.recommenders import MatrixFactorization\n",
    "\n",
    "config = {\n",
    "    \"config_file\": \"../configs/mf_default.json\",\n",
    "}\n",
    "# model_dir = model.config[\"system\"][\"model_save_dir\"] # default saving dir for current model\n",
    "model_dir = \"/home/zm324/workspace/beta_rec/checkpoints/MF_default_20200912_173445_gccwwj/mf.model\"  # a specfic model\n",
    "model = MatrixFactorization(config)\n",
    "model.init_engine(data)\n",
    "# this is necessary, since we cannot intialize a model before we get the the numbers of users and items\n",
    "\n",
    "model.load(model_dir=model_dir)\n",
    "scores = model.predict(data.test[0])\n",
    "scores"
   ]
  },
  {
   "cell_type": "code",
   "execution_count": null,
   "metadata": {},
   "outputs": [],
   "source": [
    "scores.shape"
   ]
  },
  {
   "cell_type": "markdown",
   "metadata": {},
   "source": [
    "## Model tuning"
   ]
  },
  {
   "cell_type": "code",
   "execution_count": null,
   "metadata": {},
   "outputs": [],
   "source": [
    "# Before using tune, you need to install beta_rec to your local python lib\n",
    "# E.g. go to the project folder, run:\n",
    "# python setup.py install --record files.txt\n",
    "\n",
    "# if something wrong, you can uninstall by: xargs rm -rf < files.txt\n",
    "\n",
    "from beta_rec.data import BaseData\n",
    "from beta_rec.datasets.movielens import Movielens_100k\n",
    "from beta_rec.recommenders import MatrixFactorization\n",
    "\n",
    "dataset = Movielens_100k()\n",
    "split_dataset = dataset.load_leave_one_out(n_test=1)\n",
    "data = BaseData(split_dataset)\n",
    "\n",
    "config = {\"config_file\": \"../configs/mf_default.json\", \"tune\": True, \"max_epoch\": 2}\n",
    "\n",
    "model = MatrixFactorization(config)\n",
    "tune_result = model.train(data)\n",
    "tune_result"
   ]
  },
  {
   "cell_type": "markdown",
   "metadata": {},
   "source": [
    "### Note that ray version should be 0.8.5.\n"
   ]
  },
  {
   "cell_type": "code",
   "execution_count": null,
   "metadata": {},
   "outputs": [],
   "source": [
    "import ray\n",
    "\n",
    "ray.__version__\n",
    "ray.init()"
   ]
  },
  {
   "cell_type": "code",
   "execution_count": null,
   "metadata": {},
   "outputs": [],
   "source": []
  },
  {
   "cell_type": "code",
   "execution_count": null,
   "metadata": {},
   "outputs": [],
   "source": []
  }
 ],
 "metadata": {
  "kernelspec": {
   "display_name": "beta_rec",
   "language": "python",
   "name": "beta_rec"
  },
  "language_info": {
   "codemirror_mode": {
    "name": "ipython",
    "version": 3
   },
   "file_extension": ".py",
   "mimetype": "text/x-python",
   "name": "python",
   "nbconvert_exporter": "python",
   "pygments_lexer": "ipython3",
   "version": "3.8.5"
  }
 },
 "nbformat": 4,
 "nbformat_minor": 4
}
